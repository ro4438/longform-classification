{
 "cells": [
  {
   "cell_type": "code",
   "execution_count": 1,
   "metadata": {},
   "outputs": [],
   "source": [
    "import pandas as pd\n",
    "import seaborn as sns\n",
    "%matplotlib inline\n",
    "import random\n",
    "import matplotlib.pyplot as plt\n",
    "\n",
    "BERT = pd.read_json(\"run-warmup_steps=1000_learning_rate=2e-05_training_steps=5000_runs_BERT-tag-Eval_Top-100.json\")\n",
    "rankfromsets = pd.read_json(\"run-optimizer_type=RMS_emb_size=10_batch_size=500_learning_rate=0.0001_runs_mean-tag-Eval_Top-100.json\")\n",
    "batch_size_BERT = 32\n",
    "batch_size_rankfromsets = 500"
   ]
  },
  {
   "cell_type": "code",
   "execution_count": 3,
   "metadata": {},
   "outputs": [],
   "source": [
    "rankfromsets.rename(columns={0: \"rawTime\", 1: \"step\", 2:\"performance\"}, inplace=True)\n",
    "rankfromsets['complexity'] = rankfromsets['step'] * batch_size_rankfromsets\n",
    "\n",
    "BERT.rename(columns={0: \"rawTime\", 1: \"step\", 2:\"performance\"}, inplace=True)\n",
    "BERT['complexity'] = BERT['step'] * batch_size_BERT"
   ]
  },
  {
   "cell_type": "code",
   "execution_count": null,
   "metadata": {},
   "outputs": [],
   "source": [
    "time_list = [0]\n",
    "beginning = rankfromsets['rawTime'][0]\n",
    "\n",
    "for x in range(1, len(rankfromsets['rawTime'])):\n",
    "    time_list.append(rankfromsets['rawTime'][x]-beginning)\n",
    "\n",
    "rankfromsets['current_time'] = time_list\n",
    "\n",
    "time_list = [0]\n",
    "beginning = BERT['rawTime'][0]\n",
    "\n",
    "for x in range(1, len(BERT['rawTime'])):\n",
    "    time_list.append(BERT['rawTime'][x]-beginning)\n",
    "\n",
    "BERT['current_time'] = time_list"
   ]
  },
  {
   "cell_type": "code",
   "execution_count": 24,
   "metadata": {},
   "outputs": [],
   "source": [
    "# this is only to cut down to only the period when performance is improving, don't run if you want to keep the whole training process\n",
    "rankfromsets = rankfromsets.iloc[:22]\n",
    "BERT = BERT.iloc[:3]"
   ]
  },
  {
   "cell_type": "code",
   "execution_count": 24,
   "metadata": {},
   "outputs": [],
   "source": [
    "# this just gets the lists of various data parameters so you can pick and choose what to plot\n",
    "rankfromsets_seconds = list(rankfromsets['current_time'])\n",
    "BERT_seconds = list(BERT['current_time'])\n",
    "rankfromsets_performance = list(rankfromsets['performance'])\n",
    "BERT_performance = list(BERT['performance'])\n",
    "rankfromsets_complexity = list(rankfromsets['complexity'])\n",
    "BERT_complexity = list(BERT['complexity'])"
   ]
  },
  {
   "cell_type": "code",
   "execution_count": 24,
   "metadata": {},
   "outputs": [
    {
     "data": {
      "text/plain": [
       "<matplotlib.axes._subplots.AxesSubplot at 0x2310b0b45b0>"
      ]
     },
     "execution_count": 24,
     "metadata": {},
     "output_type": "execute_result"
    },
    {
     "data": {
      "image/png": "[encoded data removed]",
      "text/plain": [
       "<Figure size 720x432 with 1 Axes>"
      ]
     },
     "metadata": {
      "needs_background": "light"
     },
     "output_type": "display_data"
    }
   ],
   "source": [
    "# formatting is upto you\n",
    "plt.figure(figsize=(10, 6))\n",
    "plt.ticklabel_format(style='plain', axis='x')\n",
    "sns.lineplot(x=rankfromsets_seconds, y=rankfromsets_performance, color=\"red\", marker='o')\n",
    "sns.lineplot(x=BERT_seconds, y=BERT_performance, color=\"blue\", marker='o')"
   ]
  },
  {
   "cell_type": "code",
   "execution_count": null,
   "metadata": {},
   "outputs": [],
   "source": []
  }
 ],
 "metadata": {
  "kernelspec": {
   "display_name": "Python 3",
   "language": "python",
   "name": "python3"
  },
  "language_info": {
   "codemirror_mode": {
    "name": "ipython",
    "version": 3
   },
   "file_extension": ".py",
   "mimetype": "text/x-python",
   "name": "python",
   "nbconvert_exporter": "python",
   "pygments_lexer": "ipython3",
   "version": "3.8.3"
  }
 },
 "nbformat": 4,
 "nbformat_minor": 4
}
